{
 "cells": [
  {
   "cell_type": "markdown",
   "metadata": {},
   "source": [
    "For this report gene annotation data from infinium global screening array by illumina is used. This dataset has 8 columns. Namely, Name, Chr, MapInfo, Alleles, Transcript(s), Gene(s), In-exon, Mutation(s). 'Name' is the name of Single nucleotide Ppolymorphism(SNP). 'Chr' is the chromosome on which this SNP is located. 'MapInfo' is the physical location of the SNP on the chromosome, i.e. the base pair on which this SNP is. 'In-exon' denotes wheather this SNP is in the exon region or not. If it is in not in the exon, it means that it is in the intron region or other non coding region. The SNPs in the exon is the part of the transcript and directly affects the expressed mRNA or protein functionality. The SNPs present in the intron region, on the other hand, play important part in the central dogma only when they are part of splicing region which is important for postprocessing of the transcript following transcription or if it makes up the part of stop-codon in translation. 'Transcript(s)' is/are the mRNA transcribed. 'Alleles' are the two possible allelic variation present. There are four nucleotides present, 'A','T','G' and 'C'. 'Mutation(s)' are the mutations present in the translated protein. Synonymous and silent mutation do not have much effect on protein functionality while the other type of mutations have significant effect. "
   ]
  },
  {
   "cell_type": "code",
   "execution_count": null,
   "metadata": {},
   "outputs": [],
   "source": [
    "import matplotlib.pyplot as plt\n",
    "import numpy as np\n",
    "import pandas as pd"
   ]
  },
  {
   "cell_type": "code",
   "execution_count": 198,
   "metadata": {
    "scrolled": false
   },
   "outputs": [
    {
     "data": {
      "text/html": [
       "<div>\n",
       "<style scoped>\n",
       "    .dataframe tbody tr th:only-of-type {\n",
       "        vertical-align: middle;\n",
       "    }\n",
       "\n",
       "    .dataframe tbody tr th {\n",
       "        vertical-align: top;\n",
       "    }\n",
       "\n",
       "    .dataframe thead th {\n",
       "        text-align: right;\n",
       "    }\n",
       "</style>\n",
       "<table border=\"1\" class=\"dataframe\">\n",
       "  <thead>\n",
       "    <tr style=\"text-align: right;\">\n",
       "      <th></th>\n",
       "      <th>Name</th>\n",
       "      <th>Chr</th>\n",
       "      <th>MapInfo</th>\n",
       "      <th>Alleles</th>\n",
       "      <th>Transcript(s)</th>\n",
       "      <th>Gene(s)</th>\n",
       "      <th>In-exon</th>\n",
       "      <th>Mutation(s)</th>\n",
       "    </tr>\n",
       "  </thead>\n",
       "  <tbody>\n",
       "    <tr>\n",
       "      <th>0</th>\n",
       "      <td>rs9701055</td>\n",
       "      <td>1</td>\n",
       "      <td>565433</td>\n",
       "      <td>[T/C]</td>\n",
       "      <td>NaN</td>\n",
       "      <td>NaN</td>\n",
       "      <td>NaN</td>\n",
       "      <td>NaN</td>\n",
       "    </tr>\n",
       "    <tr>\n",
       "      <th>1</th>\n",
       "      <td>rs9651229</td>\n",
       "      <td>1</td>\n",
       "      <td>567667</td>\n",
       "      <td>[T/C]</td>\n",
       "      <td>NaN</td>\n",
       "      <td>NaN</td>\n",
       "      <td>NaN</td>\n",
       "      <td>NaN</td>\n",
       "    </tr>\n",
       "    <tr>\n",
       "      <th>2</th>\n",
       "      <td>rs9701872</td>\n",
       "      <td>1</td>\n",
       "      <td>568208</td>\n",
       "      <td>[T/C]</td>\n",
       "      <td>NaN</td>\n",
       "      <td>NaN</td>\n",
       "      <td>NaN</td>\n",
       "      <td>NaN</td>\n",
       "    </tr>\n",
       "    <tr>\n",
       "      <th>3</th>\n",
       "      <td>rs11497407</td>\n",
       "      <td>1</td>\n",
       "      <td>568527</td>\n",
       "      <td>[A/G]</td>\n",
       "      <td>NaN</td>\n",
       "      <td>NaN</td>\n",
       "      <td>NaN</td>\n",
       "      <td>NaN</td>\n",
       "    </tr>\n",
       "    <tr>\n",
       "      <th>4</th>\n",
       "      <td>GSA-rs116587930</td>\n",
       "      <td>1</td>\n",
       "      <td>727841</td>\n",
       "      <td>[A/G]</td>\n",
       "      <td>NaN</td>\n",
       "      <td>NaN</td>\n",
       "      <td>NaN</td>\n",
       "      <td>NaN</td>\n",
       "    </tr>\n",
       "  </tbody>\n",
       "</table>\n",
       "</div>"
      ],
      "text/plain": [
       "              Name Chr  MapInfo Alleles Transcript(s) Gene(s) In-exon  \\\n",
       "0        rs9701055   1   565433   [T/C]           NaN     NaN     NaN   \n",
       "1        rs9651229   1   567667   [T/C]           NaN     NaN     NaN   \n",
       "2        rs9701872   1   568208   [T/C]           NaN     NaN     NaN   \n",
       "3       rs11497407   1   568527   [A/G]           NaN     NaN     NaN   \n",
       "4  GSA-rs116587930   1   727841   [A/G]           NaN     NaN     NaN   \n",
       "\n",
       "  Mutation(s)  \n",
       "0         NaN  \n",
       "1         NaN  \n",
       "2         NaN  \n",
       "3         NaN  \n",
       "4         NaN  "
      ]
     },
     "execution_count": 198,
     "metadata": {},
     "output_type": "execute_result"
    }
   ],
   "source": [
    "#importing data from local directory and seeing first few lines of data\n",
    "data = pd.read_csv('C:/Users/SAHIL SINGH/Downloads/newdata.csv',sep = '\\t', low_memory = False)\n",
    "data.head()"
   ]
  },
  {
   "cell_type": "code",
   "execution_count": 199,
   "metadata": {},
   "outputs": [
    {
     "name": "stdout",
     "output_type": "stream",
     "text": [
      "(665608, 8)\n",
      "Name             object\n",
      "Chr              object\n",
      "MapInfo           int64\n",
      "Alleles          object\n",
      "Transcript(s)    object\n",
      "Gene(s)          object\n",
      "In-exon          object\n",
      "Mutation(s)      object\n",
      "dtype: object\n"
     ]
    }
   ],
   "source": [
    "#more information about the dataset\n",
    "print data.shape\n",
    "print data.dtypes"
   ]
  },
  {
   "cell_type": "code",
   "execution_count": 200,
   "metadata": {},
   "outputs": [
    {
     "name": "stdout",
     "output_type": "stream",
     "text": [
      "<type 'str'>\n"
     ]
    }
   ],
   "source": [
    "print type(data['Chr'][1])"
   ]
  },
  {
   "cell_type": "code",
   "execution_count": 201,
   "metadata": {},
   "outputs": [
    {
     "name": "stdout",
     "output_type": "stream",
     "text": [
      "<class 'pandas.core.frame.DataFrame'>\n",
      "RangeIndex: 665608 entries, 0 to 665607\n",
      "Data columns (total 8 columns):\n",
      "Name             665608 non-null object\n",
      "Chr              665608 non-null object\n",
      "MapInfo          665608 non-null int64\n",
      "Alleles          665608 non-null object\n",
      "Transcript(s)    344747 non-null object\n",
      "Gene(s)          344747 non-null object\n",
      "In-exon          87555 non-null object\n",
      "Mutation(s)      336158 non-null object\n",
      "dtypes: int64(1), object(7)\n",
      "memory usage: 40.6+ MB\n",
      "None\n"
     ]
    }
   ],
   "source": [
    "print data.info()"
   ]
  },
  {
   "cell_type": "code",
   "execution_count": 202,
   "metadata": {},
   "outputs": [
    {
     "data": {
      "text/plain": [
       "Name             665608\n",
       "Chr                  26\n",
       "MapInfo          658213\n",
       "Alleles              10\n",
       "Transcript(s)     24914\n",
       "Gene(s)           24807\n",
       "In-exon               1\n",
       "Mutation(s)       61851\n",
       "dtype: int64"
      ]
     },
     "execution_count": 202,
     "metadata": {},
     "output_type": "execute_result"
    }
   ],
   "source": [
    "#number of unique variables in each series of the dataframe\n",
    "data.nunique()"
   ]
  },
  {
   "cell_type": "code",
   "execution_count": null,
   "metadata": {},
   "outputs": [],
   "source": [
    "#processing of data before using it\n",
    "#taking only those SNPs into consideration that are in the exon region\n",
    "exond = data[data['In-exon']=='EXON']"
   ]
  },
  {
   "cell_type": "code",
   "execution_count": null,
   "metadata": {},
   "outputs": [],
   "source": [
    "#removing the Chromosome 0 and M, artificial chromosomes\n",
    "ped = exond[exond['Chr']!='0']\n",
    "ped = ped[ped['Chr']!='M']"
   ]
  },
  {
   "cell_type": "code",
   "execution_count": 205,
   "metadata": {},
   "outputs": [
    {
     "name": "stdout",
     "output_type": "stream",
     "text": [
      "<class 'pandas.core.frame.DataFrame'>\n",
      "Int64Index: 87555 entries, 6 to 665602\n",
      "Data columns (total 8 columns):\n",
      "Name             87555 non-null object\n",
      "Chr              87555 non-null object\n",
      "MapInfo          87555 non-null int64\n",
      "Alleles          87555 non-null object\n",
      "Transcript(s)    87555 non-null object\n",
      "Gene(s)          87555 non-null object\n",
      "In-exon          87555 non-null object\n",
      "Mutation(s)      79438 non-null object\n",
      "dtypes: int64(1), object(7)\n",
      "memory usage: 6.0+ MB\n"
     ]
    }
   ],
   "source": [
    "#removing all the data entries with silent or Synonymous mutation and also with having no mutations\n",
    "p1 = ped[ped['Mutation(s)'].str.contains('Silent', na =False)==False]\n",
    "p1 = p1[p1['Mutation(s)'].str.contains('', na =False)]\n",
    "p1 = p1[p1['Mutation(s)'].str.contains('Synonymous')==False]\n",
    "ped.info()"
   ]
  },
  {
   "cell_type": "code",
   "execution_count": 206,
   "metadata": {
    "scrolled": true
   },
   "outputs": [
    {
     "name": "stdout",
     "output_type": "stream",
     "text": [
      "<class 'pandas.core.frame.DataFrame'>\n",
      "Int64Index: 47993 entries, 23 to 665602\n",
      "Data columns (total 8 columns):\n",
      "Name             47993 non-null object\n",
      "Chr              47993 non-null object\n",
      "MapInfo          47993 non-null int64\n",
      "Alleles          47993 non-null object\n",
      "Transcript(s)    47993 non-null object\n",
      "Gene(s)          47993 non-null object\n",
      "In-exon          47993 non-null object\n",
      "Mutation(s)      47993 non-null object\n",
      "dtypes: int64(1), object(7)\n",
      "memory usage: 3.3+ MB\n"
     ]
    }
   ],
   "source": [
    "p1.info()"
   ]
  },
  {
   "cell_type": "code",
   "execution_count": 207,
   "metadata": {},
   "outputs": [
    {
     "data": {
      "text/html": [
       "<div>\n",
       "<style scoped>\n",
       "    .dataframe tbody tr th:only-of-type {\n",
       "        vertical-align: middle;\n",
       "    }\n",
       "\n",
       "    .dataframe tbody tr th {\n",
       "        vertical-align: top;\n",
       "    }\n",
       "\n",
       "    .dataframe thead th {\n",
       "        text-align: right;\n",
       "    }\n",
       "</style>\n",
       "<table border=\"1\" class=\"dataframe\">\n",
       "  <thead>\n",
       "    <tr style=\"text-align: right;\">\n",
       "      <th></th>\n",
       "      <th>Name</th>\n",
       "      <th>Chr</th>\n",
       "      <th>MapInfo</th>\n",
       "      <th>Alleles</th>\n",
       "      <th>Transcript(s)</th>\n",
       "      <th>Gene(s)</th>\n",
       "      <th>In-exon</th>\n",
       "      <th>Mutation(s)</th>\n",
       "    </tr>\n",
       "  </thead>\n",
       "  <tbody>\n",
       "    <tr>\n",
       "      <th>23</th>\n",
       "      <td>GSA-rs148327885</td>\n",
       "      <td>1</td>\n",
       "      <td>878331</td>\n",
       "      <td>[T/C]</td>\n",
       "      <td>NM_152486</td>\n",
       "      <td>SAMD11</td>\n",
       "      <td>EXON</td>\n",
       "      <td>Missense_P486L</td>\n",
       "    </tr>\n",
       "    <tr>\n",
       "      <th>27</th>\n",
       "      <td>rs3748597</td>\n",
       "      <td>1</td>\n",
       "      <td>888659</td>\n",
       "      <td>[T/C]</td>\n",
       "      <td>NM_015658</td>\n",
       "      <td>NOC2L</td>\n",
       "      <td>EXON</td>\n",
       "      <td>Missense_I300V</td>\n",
       "    </tr>\n",
       "    <tr>\n",
       "      <th>28</th>\n",
       "      <td>GSA-rs3828049</td>\n",
       "      <td>1</td>\n",
       "      <td>889238</td>\n",
       "      <td>[A/G]</td>\n",
       "      <td>NM_015658</td>\n",
       "      <td>NOC2L</td>\n",
       "      <td>EXON</td>\n",
       "      <td>Missense_A271V</td>\n",
       "    </tr>\n",
       "    <tr>\n",
       "      <th>37</th>\n",
       "      <td>GSA-rs186101910</td>\n",
       "      <td>1</td>\n",
       "      <td>914749</td>\n",
       "      <td>[T/C]</td>\n",
       "      <td>NM_001291367,NM_001291366</td>\n",
       "      <td>PERM1,PERM1</td>\n",
       "      <td>EXON</td>\n",
       "      <td>Missense_R460Q,Missense_R554Q</td>\n",
       "    </tr>\n",
       "    <tr>\n",
       "      <th>44</th>\n",
       "      <td>rs202075563</td>\n",
       "      <td>1</td>\n",
       "      <td>949472</td>\n",
       "      <td>[A/G]</td>\n",
       "      <td>NM_005101</td>\n",
       "      <td>ISG15</td>\n",
       "      <td>EXON</td>\n",
       "      <td>Missense_V38M</td>\n",
       "    </tr>\n",
       "  </tbody>\n",
       "</table>\n",
       "</div>"
      ],
      "text/plain": [
       "               Name Chr  MapInfo Alleles              Transcript(s)  \\\n",
       "23  GSA-rs148327885   1   878331   [T/C]                  NM_152486   \n",
       "27        rs3748597   1   888659   [T/C]                  NM_015658   \n",
       "28    GSA-rs3828049   1   889238   [A/G]                  NM_015658   \n",
       "37  GSA-rs186101910   1   914749   [T/C]  NM_001291367,NM_001291366   \n",
       "44      rs202075563   1   949472   [A/G]                  NM_005101   \n",
       "\n",
       "        Gene(s) In-exon                    Mutation(s)  \n",
       "23       SAMD11    EXON                 Missense_P486L  \n",
       "27        NOC2L    EXON                 Missense_I300V  \n",
       "28        NOC2L    EXON                 Missense_A271V  \n",
       "37  PERM1,PERM1    EXON  Missense_R460Q,Missense_R554Q  \n",
       "44        ISG15    EXON                  Missense_V38M  "
      ]
     },
     "execution_count": 207,
     "metadata": {},
     "output_type": "execute_result"
    }
   ],
   "source": [
    "p1.head()"
   ]
  },
  {
   "cell_type": "code",
   "execution_count": 223,
   "metadata": {},
   "outputs": [
    {
     "name": "stdout",
     "output_type": "stream",
     "text": [
      "['1' '10' '11' '12' '13' '14' '15' '16' '17' '18' '19' '2' '20' '21' '22'\n",
      " '3' '4' '5' '6' '7' '8' '9' 'X' 'Y']\n"
     ]
    }
   ],
   "source": [
    "#unique entries in the chromosome series representing various chromosomes present\n",
    "chrome = p1['Chr'].unique()\n",
    "print chrome"
   ]
  },
  {
   "cell_type": "code",
   "execution_count": 233,
   "metadata": {},
   "outputs": [
    {
     "name": "stdout",
     "output_type": "stream",
     "text": [
      "1   878331   249211619\n",
      "10   298399   135370609\n",
      "11   212839   134237200\n",
      "12   305369   133732512\n",
      "13   19751245   115091330\n",
      "14   20215899   105965102\n",
      "15   22836101   102359203\n",
      "16   112775   90141355\n",
      "17   69519   80895933\n",
      "18   321773   77894470\n",
      "19   287703   59061795\n",
      "2   1079274   242815059\n",
      "20   126149   62871203\n",
      "21   15481365   47965873\n",
      "22   17072411   51176734\n",
      "3   361508   197579466\n",
      "4   264941   189061106\n",
      "5   140474   180626927\n",
      "6   1395086   170657353\n",
      "7   195594   158727230\n",
      "8   195254   146029130\n",
      "9   312134   140952560\n",
      "X   595379   155233159\n",
      "Y   2655265   21906413\n"
     ]
    }
   ],
   "source": [
    "#displaying first and last position of the SNPs present in different chromosome in the order shown above \n",
    "for entry in chrome:\n",
    "    print entry, \" \" ,min(p1[p1['Chr']==entry]['MapInfo']),\" \",max(p1[p1['Chr']==entry]['MapInfo'])"
   ]
  },
  {
   "cell_type": "code",
   "execution_count": 232,
   "metadata": {},
   "outputs": [
    {
     "name": "stdout",
     "output_type": "stream",
     "text": [
      "Current size: [25.0, 25.0]\n"
     ]
    },
    {
     "data": {
      "image/png": "[encoded data removed]",
      "text/plain": [
       "<Figure size 1800x1800 with 1 Axes>"
      ]
     },
     "metadata": {},
     "output_type": "display_data"
    }
   ],
   "source": [
    "#plotting the SNPs present at various chromosomes\n",
    "plt.scatter(p1['MapInfo'],p1['Chr'])\n",
    "plt.ylabel('SNP location')\n",
    "# Get current size\n",
    "fig_size = plt.rcParams[\"figure.figsize\"]\n",
    " \n",
    "print \"Current size:\", fig_size\n",
    " \n",
    "# Set figure width to 25 and height to 25\n",
    "fig_size[0] = 25\n",
    "fig_size[1] = 25\n",
    "plt.rcParams[\"figure.figsize\"] = fig_size\n",
    "plt.show()"
   ]
  }
 ],
 "metadata": {
  "kernelspec": {
   "display_name": "Python 2",
   "language": "python",
   "name": "python2"
  },
  "language_info": {
   "codemirror_mode": {
    "name": "ipython",
    "version": 2
   },
   "file_extension": ".py",
   "mimetype": "text/x-python",
   "name": "python",
   "nbconvert_exporter": "python",
   "pygments_lexer": "ipython2",
   "version": "2.7.15"
  }
 },
 "nbformat": 4,
 "nbformat_minor": 2
}
